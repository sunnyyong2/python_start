{
 "cells": [
  {
   "cell_type": "code",
   "execution_count": 1,
   "metadata": {},
   "outputs": [],
   "source": [
    "### 1번\n",
    "\n",
    "def can_divide(numbers, divisor):\n",
    "    \"\"\"\n",
    "    나누어 떨어지는 수\n",
    "    \"\"\"\n",
    "    result = []\n",
    "    \n",
    "    for number in numbers:\n",
    "        if number % divisor == 0:\n",
    "            result.append(number)\n",
    "    print(result)\n",
    "    \n",
    "    #return sorted(result)\n",
    "    result.sort()\n",
    "    \n",
    "    #if len(result) == 0:\n",
    "    if not result:\n",
    "        result.append(-1)\n",
    "    \n",
    "    return result\n",
    "\n",
    "\n",
    "###comprehension\n",
    "#answer  = [number for number in numbers if not number % divisor]\n",
    "#anser = sorted() if answer else [-1]\n",
    "#return answer    \n",
    "    "
   ]
  },
  {
   "cell_type": "code",
   "execution_count": 2,
   "metadata": {},
   "outputs": [
    {
     "name": "stdout",
     "output_type": "stream",
     "text": [
      "{}\n"
     ]
    }
   ],
   "source": [
    "### 2번 (혈액형 문제와 유사)\n",
    "\n",
    "def alphabet_count(word):\n",
    "    result  = {}\n",
    "    \n",
    "    for char in word:\n",
    "        if char in result:\n",
    "            result[char] += 1\n",
    "        else:\n",
    "            result[char] = 1\n",
    "            \n",
    "    return result\n",
    "\n",
    "print(alphabet_count(''))"
   ]
  },
  {
   "cell_type": "code",
   "execution_count": 6,
   "metadata": {},
   "outputs": [
    {
     "name": "stdout",
     "output_type": "stream",
     "text": [
      "a2b2c2a2\n"
     ]
    }
   ],
   "source": [
    "### 3번(diffi)\n",
    "def summary(word):\n",
    "    result = []\n",
    "    temp = []\n",
    "    \n",
    "    for char in word:\n",
    "        if temp and temp[-1] != char:\n",
    "            result.append(temp[-1])\n",
    "            result.append(str(len(temp)))\n",
    "            \n",
    "            temp.clear()\n",
    "        temp.append(char)\n",
    "        \n",
    "    result.append(temp[-1])\n",
    "    result.append(str(len(temp)))\n",
    "    \n",
    "    return ''.join(result)\n",
    "\n",
    "print(summary('aabbccaa'))"
   ]
  },
  {
   "cell_type": "code",
   "execution_count": 7,
   "metadata": {},
   "outputs": [],
   "source": [
    "### 4번\n",
    "class Word:\n",
    "    def __init__(self):\n",
    "        self.wordbook = {}\n",
    "        \n",
    "    def add(self,en, kr):\n",
    "        self.wordbook[en] = kr\n",
    "        self.wordbook.update(en=kr)\n",
    "        \n",
    "    def delete(self,en):\n",
    "        if en in self.wordbook:\n",
    "            self.wordbook.pop(en)\n",
    "            return True\n",
    "        else:\n",
    "            return False\n",
    "    \n",
    "    def pirnt(self):\n",
    "        for key, val in self.wordbook.items():\n",
    "            print(f'{key}:{val}')"
   ]
  },
  {
   "cell_type": "code",
   "execution_count": 8,
   "metadata": {},
   "outputs": [
    {
     "ename": "TypeError",
     "evalue": "__init__() missing 2 required positional arguments: 'x' and 'y'",
     "output_type": "error",
     "traceback": [
      "\u001b[1;31m---------------------------------------------------------------------------\u001b[0m",
      "\u001b[1;31mTypeError\u001b[0m                                 Traceback (most recent call last)",
      "\u001b[1;32m<ipython-input-8-c653f4dc915b>\u001b[0m in \u001b[0;36m<module>\u001b[1;34m\u001b[0m\n\u001b[0;32m      5\u001b[0m         \u001b[0msely\u001b[0m\u001b[1;33m.\u001b[0m\u001b[0my\u001b[0m \u001b[1;33m=\u001b[0m \u001b[0mb\u001b[0m\u001b[1;33m\u001b[0m\u001b[1;33m\u001b[0m\u001b[0m\n\u001b[0;32m      6\u001b[0m \u001b[1;33m\u001b[0m\u001b[0m\n\u001b[1;32m----> 7\u001b[1;33m \u001b[0mp\u001b[0m \u001b[1;33m=\u001b[0m \u001b[0mPoint\u001b[0m\u001b[1;33m(\u001b[0m\u001b[1;33m)\u001b[0m\u001b[1;33m\u001b[0m\u001b[1;33m\u001b[0m\u001b[0m\n\u001b[0m\u001b[0;32m      8\u001b[0m \u001b[1;33m\u001b[0m\u001b[0m\n\u001b[0;32m      9\u001b[0m \u001b[1;32mclass\u001b[0m \u001b[0mRectangle\u001b[0m\u001b[1;33m:\u001b[0m\u001b[1;33m\u001b[0m\u001b[1;33m\u001b[0m\u001b[0m\n",
      "\u001b[1;31mTypeError\u001b[0m: __init__() missing 2 required positional arguments: 'x' and 'y'"
     ]
    }
   ],
   "source": [
    "### 5번\n",
    "class Point:\n",
    "    def __init__(self, x, y):\n",
    "        self.x = a\n",
    "        sely.y = b\n",
    "        \n",
    "p = Point()\n",
    "        \n",
    "class Rectangle:\n",
    "    def __init__(point1,point2):\n",
    "        self.p1 = point1\n",
    "        self.p2 = point2\n",
    "        \n",
    "    def get_area(self):\n",
    "        return abs(self.p1.x - self.p2.x) * abs(self.p1.y - self.p2.y)\n",
    "    \n",
    "    def get_perimeter(self):\n",
    "        return abs((self.p1.x - self.p2.x) + abs(self.p1.y - self.p2.y)) * 2\n",
    "    \n",
    "    def is_square(self):\n",
    "        return abs(self.p1.x - self.p2.x) == abs(self.p1.y - self.p2.y)\n",
    "    \n",
    "    \n",
    "        \n",
    "        "
   ]
  }
 ],
 "metadata": {
  "kernelspec": {
   "display_name": "Python 3",
   "language": "python",
   "name": "python3"
  },
  "language_info": {
   "codemirror_mode": {
    "name": "ipython",
    "version": 3
   },
   "file_extension": ".py",
   "mimetype": "text/x-python",
   "name": "python",
   "nbconvert_exporter": "python",
   "pygments_lexer": "ipython3",
   "version": "3.7.3"
  }
 },
 "nbformat": 4,
 "nbformat_minor": 2
}
