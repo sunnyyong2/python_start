{
 "cells": [
  {
   "cell_type": "code",
   "execution_count": 20,
   "metadata": {},
   "outputs": [],
   "source": [
    "def positive_sum(*numbers):\n",
    "    total = 0\n",
    "    for number in numbers:\n",
    "        if number > 0:\n",
    "            total += number \n",
    "    return total"
   ]
  },
  {
   "cell_type": "code",
   "execution_count": 21,
   "metadata": {},
   "outputs": [
    {
     "name": "stdout",
     "output_type": "stream",
     "text": [
      "14\n"
     ]
    }
   ],
   "source": [
    "print(positive_sum(5, -4, 9, -8))"
   ]
  },
  {
   "cell_type": "code",
   "execution_count": null,
   "metadata": {},
   "outputs": [],
   "source": [
    "def start_end(char):\n",
    "    count = 0\n",
    "    for i in char:\n",
    "        if len(i) >= 2 and i[0] == i[-1]:\n",
    "            count += 1\n",
    "    return count"
   ]
  },
  {
   "cell_type": "code",
   "execution_count": 10,
   "metadata": {},
   "outputs": [],
   "source": [
    "class Knight:\n",
    "    def __init__(self, health, mana, armor):\n",
    "        self.health = health\n",
    "        self.mana = mana\n",
    "        self.armor = armor\n",
    "        \n",
    "    def slash(self):\n",
    "        print('베기')"
   ]
  },
  {
   "cell_type": "code",
   "execution_count": 32,
   "metadata": {},
   "outputs": [],
   "source": [
    "class Annie:  #코딩도장 클래스 문제\n",
    "    def __init__(self, health, mana, ability_power):\n",
    "        self.health = health\n",
    "        self.mana = mana\n",
    "        self.ability_power = ability_power\n",
    "   \n",
    "    def tibbers(self, a):\n",
    "        a = a*0.65+40\n",
    "        return f'티버: 피해량 {a}'\n",
    "        \n",
    "    \n",
    "\n",
    "        "
   ]
  },
  {
   "cell_type": "code",
   "execution_count": null,
   "metadata": {},
   "outputs": [],
   "source": [
    "health, mana, ability-power = map(float, input(),split())\n",
    "x = Annie(health=health, mana=mana, ability_power=ability_power)\n",
    "x.tibbers()"
   ]
  },
  {
   "cell_type": "code",
   "execution_count": 12,
   "metadata": {},
   "outputs": [
    {
     "name": "stdout",
     "output_type": "stream",
     "text": [
      "{'A': 5, 'B': 2, 'AB': 3, 'O': 4}\n"
     ]
    }
   ],
   "source": [
    "bloods = ['A','A','B','O','A','B','A','AB','AB','O','A','O','AB','O']\n",
    "\n",
    "a = 0\n",
    "b = 0\n",
    "ab = 0\n",
    "o = 0\n",
    "\n",
    "for blood in bloods:\n",
    "    if blood =='A':\n",
    "        a += 1\n",
    "    elif blood =='B':\n",
    "        b += 1\n",
    "    elif blood =='AB':\n",
    "        ab += 1\n",
    "    else:\n",
    "        o += 1\n",
    "        \n",
    "result = {\"A\":a, \"B\":b, \"AB\":ab, \"O\":o}\n",
    "print(result)"
   ]
  },
  {
   "cell_type": "code",
   "execution_count": 11,
   "metadata": {},
   "outputs": [
    {
     "ename": "SyntaxError",
     "evalue": "EOL while scanning string literal (<ipython-input-11-08884213406e>, line 24)",
     "output_type": "error",
     "traceback": [
      "\u001b[1;36m  File \u001b[1;32m\"<ipython-input-11-08884213406e>\"\u001b[1;36m, line \u001b[1;32m24\u001b[0m\n\u001b[1;33m    return (f'Circle:{self.center}, r:{self.r})\u001b[0m\n\u001b[1;37m                                               ^\u001b[0m\n\u001b[1;31mSyntaxError\u001b[0m\u001b[1;31m:\u001b[0m EOL while scanning string literal\n"
     ]
    }
   ],
   "source": [
    "class Point:\n",
    "    def __init__(self,x,y):\n",
    "        self.x = x\n",
    "        self.y = y\n",
    "    \n",
    "    def __str__(self):\n",
    "        return(f'=> Point:{self.x}:{self.y}')\n",
    "    \n",
    "class Circle(Point):\n",
    "    def __init(self,center,r):\n",
    "        self.center = center\n",
    "        self.r = r\n",
    "        \n",
    "    def get_area(self):\n",
    "        return(3.14 * (self.r)**2)\n",
    "    \n",
    "    def get_perimeter(self):\n",
    "        return (2 * 3.14 * (self.r))\n",
    "    \n",
    "    def get_center(self):\n",
    "        return (f'{self.center}')\n",
    "    \n",
    "    def __Str__(self):\n",
    "        return (f'Circle:{self.center}, r:{self.r})\n",
    "        \n"
   ]
  },
  {
   "cell_type": "code",
   "execution_count": null,
   "metadata": {},
   "outputs": [],
   "source": [
    "class Point:\n",
    "    def __init__(self,x,y):\n",
    "        self.x = x\n",
    "        self.y = y\n",
    "\n",
    "    def __str__(self):\n",
    "        return (f'=>Point:{self.x},{self.y}')\n",
    "    \n",
    "class Circle(Point):\n",
    "    def __init(self,center,r):\n",
    "        self.center = center\n",
    "        self.r = r\n",
    "    \n",
    "    def get_area(self):\n",
    "        return (3.14 * (self.r)**2)\n",
    "    \n",
    "    def get_perimeter(self):\n",
    "        return (2 * 3.14 * (self.r))\n",
    "    \n",
    "    def get_center(self):\n",
    "        return (f'{self.center}')\n",
    "    \n",
    "    def __str__(self):\n",
    "        return (f'Circle:{self.center},r:{self.r}')\n",
    "    \n",
    "    "
   ]
  }
 ],
 "metadata": {
  "kernelspec": {
   "display_name": "Python 3",
   "language": "python",
   "name": "python3"
  },
  "language_info": {
   "codemirror_mode": {
    "name": "ipython",
    "version": 3
   },
   "file_extension": ".py",
   "mimetype": "text/x-python",
   "name": "python",
   "nbconvert_exporter": "python",
   "pygments_lexer": "ipython3",
   "version": "3.7.3"
  }
 },
 "nbformat": 4,
 "nbformat_minor": 2
}
