{
 "cells": [
  {
   "cell_type": "code",
   "execution_count": 6,
   "metadata": {},
   "outputs": [],
   "source": [
    "def positive_sum(*numbers):\n",
    "    sum = 0\n",
    "    for number in numbers:\n",
    "        if number > 0:\n",
    "            sum += number \n",
    "    return sum"
   ]
  },
  {
   "cell_type": "code",
   "execution_count": 8,
   "metadata": {},
   "outputs": [
    {
     "name": "stdout",
     "output_type": "stream",
     "text": [
      "14\n"
     ]
    }
   ],
   "source": [
    "print(positive_sum(5, -4, 9, -8))"
   ]
  },
  {
   "cell_type": "code",
   "execution_count": 10,
   "metadata": {},
   "outputs": [],
   "source": [
    "class Knight:\n",
    "    def __init__(self, health, mana, armor):\n",
    "        self.health = health\n",
    "        self.mana = mana\n",
    "        self.armor = armor\n",
    "        \n",
    "    def slash(self):\n",
    "        print('베기')"
   ]
  },
  {
   "cell_type": "code",
   "execution_count": 32,
   "metadata": {},
   "outputs": [],
   "source": [
    "class Annie:  #코딩도장 클래스 문제\n",
    "    def __init__(self, health, mana, ability_power):\n",
    "        self.health = health\n",
    "        self.mana = mana\n",
    "        self.ability_power = ability_power\n",
    "   \n",
    "    def tibbers(self, a):\n",
    "        a = a*0.65+40\n",
    "        return f'티버: 피해량 {a}'\n",
    "        \n",
    "    \n",
    "\n",
    "        "
   ]
  },
  {
   "cell_type": "code",
   "execution_count": null,
   "metadata": {},
   "outputs": [],
   "source": [
    "health, mana, ability-power = map(float, input(),split())\n",
    "x = Annie(health=health, mana=mana, ability_power=ability_power)\n",
    "x.tibbers()"
   ]
  },
  {
   "cell_type": "code",
   "execution_count": 31,
   "metadata": {},
   "outputs": [
    {
     "name": "stdout",
     "output_type": "stream",
     "text": [
      "5\n"
     ]
    }
   ],
   "source": [
    "bloods = ['A','A','B','O','A','B','A','AB','AB','O','A','O','AB','O']\n",
    "\n",
    "a = 0\n",
    "b = 0\n",
    "ab = 0\n",
    "o = 0\n",
    "\n",
    "for blood in bloods:\n",
    "    if blood =='A':\n",
    "        a += 1\n",
    "    elif blood =='B':\n",
    "        b += 1\n",
    "    elif blood =='AB':\n",
    "        ab += 1\n",
    "    else:\n",
    "        o += 1\n",
    "        \n",
    "result = {\"A\":a, \"B\":b, \"AB\":ab, \"O\":o}\n",
    "print(result)"
   ]
  }
 ],
 "metadata": {
  "kernelspec": {
   "display_name": "Python 3",
   "language": "python",
   "name": "python3"
  },
  "language_info": {
   "codemirror_mode": {
    "name": "ipython",
    "version": 3
   },
   "file_extension": ".py",
   "mimetype": "text/x-python",
   "name": "python",
   "nbconvert_exporter": "python",
   "pygments_lexer": "ipython3",
   "version": "3.7.3"
  }
 },
 "nbformat": 4,
 "nbformat_minor": 2
}
